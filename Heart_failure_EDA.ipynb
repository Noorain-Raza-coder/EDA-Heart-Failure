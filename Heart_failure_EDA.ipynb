{
 "cells": [
  {
   "cell_type": "markdown",
   "id": "adc84541",
   "metadata": {},
   "source": [
    "## EDA on Heart Failure Clinical Records Dataset"
   ]
  },
  {
   "cell_type": "markdown",
   "id": "122716f9",
   "metadata": {},
   "source": [
    "## About Dataset : \n",
    "\n",
    "The dataset provided for this project is focused on heart failure, a critical medical condition characterized by\n",
    "the heart's inability to pump blood effectively, leading to inadequate circulation throughout the body. Here's an\n",
    "overview of the dataset:\n",
    "\n",
    "## Title: Heart Failure Clinical Records Dataset\n",
    "\n",
    "Source: The dataset was collected at the Faisalabad Institute of Cardiology and the Allied Hospital in\n",
    "Faisalabad, Punjab, Pakistan, during the period of April to December in 2015. It was later made available on\n",
    "Kaggle.\n",
    "\n",
    "\n",
    "Description: The dataset comprises medical records of 299 patients diagnosed with heart failure. These records\n",
    "include various clinical, body, and lifestyle information of the patients. The dataset encompasses 13 features,\n",
    "providing insights into the patients' health status and potential risk factors for heart failure.\n",
    "\n",
    "\n",
    "## Features :\n",
    "\n",
    "Age: The age of the patient (numeric).\n",
    "\n",
    "Anaemia: Indicates the presence of anemia (binary: 0 for no, 1 for yes).\n",
    "\n",
    "Creatinine Phosphokinase (CPK): Level of creatinine phosphokinase enzyme in the blood (numeric).\n",
    "\n",
    "Diabetes: Indicates whether the patient has diabetes (binary: 0 for no, 1 for yes).\n",
    "\n",
    "Ejection Fraction: Percentage of blood leaving the heart at each contraction (numeric).\n",
    "\n",
    "High Blood Pressure: Indicates whether the patient has high blood pressure (binary: 0 for no, 1 for yes).\n",
    "\n",
    "Platelets: Platelet count in the blood (numeric).\n",
    "\n",
    "Serum Creatinine: Level of creatinine in the blood (numeric).\n",
    "\n",
    "Serum Sodium: Level of sodium in the blood (numeric).\n",
    "\n",
    "Sex: Gender of the patient (binary: 0 for female, 1 for male).\n",
    "\n",
    "Smoking: Indicates whether the patient smokes (binary: 0 for no, 1 for yes).\n",
    "\n",
    "Time: Follow-up period (in days) for the patient's condition (numeric).\n"
   ]
  },
  {
   "cell_type": "code",
   "execution_count": null,
   "id": "520ffad8",
   "metadata": {},
   "outputs": [],
   "source": []
  },
  {
   "cell_type": "code",
   "execution_count": null,
   "id": "8699b6ab",
   "metadata": {},
   "outputs": [],
   "source": []
  }
 ],
 "metadata": {
  "kernelspec": {
   "display_name": "Python 3 (ipykernel)",
   "language": "python",
   "name": "python3"
  },
  "language_info": {
   "codemirror_mode": {
    "name": "ipython",
    "version": 3
   },
   "file_extension": ".py",
   "mimetype": "text/x-python",
   "name": "python",
   "nbconvert_exporter": "python",
   "pygments_lexer": "ipython3",
   "version": "3.9.12"
  }
 },
 "nbformat": 4,
 "nbformat_minor": 5
}
